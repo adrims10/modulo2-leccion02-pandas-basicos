{
 "cells": [
  {
   "cell_type": "markdown",
   "id": "6db588db",
   "metadata": {},
   "source": [
    "<div style=\"text-align: center;\">\n",
    "  <img src=\"https://github.com/Hack-io-Data/Imagenes/blob/main/01-LogosHackio/logo_naranja@4x.png?raw=true\" alt=\"esquema\" />\n",
    "</div>"
   ]
  },
  {
   "cell_type": "markdown",
   "id": "11308d6c",
   "metadata": {},
   "source": [
    "\n",
    "# Laboratorio de NumPy"
   ]
  },
  {
   "cell_type": "markdown",
   "id": "a19d4596",
   "metadata": {},
   "source": [
    "#### Ejercicio 1 - Crea un array de 1D con los números del 0 al 9."
   ]
  },
  {
   "cell_type": "code",
   "execution_count": 351,
   "id": "9d4e1d42",
   "metadata": {},
   "outputs": [
    {
     "name": "stdout",
     "output_type": "stream",
     "text": [
      "[1 2 3 4 5 6 7 8 9]\n"
     ]
    }
   ],
   "source": [
    "import numpy as np\n",
    "\n",
    "lista = [1,2,3,4,5,6,7,8,9]\n",
    "array_unidimensional = np.array(lista)               \n",
    "print(array_unidimensional)\n"
   ]
  },
  {
   "cell_type": "markdown",
   "id": "f4a41f16",
   "metadata": {},
   "source": [
    "#### Ejercicio 2 - Convierte un array 1D en un array 2D con 2 filas y 5 columnas."
   ]
  },
  {
   "cell_type": "code",
   "execution_count": 352,
   "id": "3d7cef3c",
   "metadata": {},
   "outputs": [
    {
     "data": {
      "text/plain": [
       "array([[ 1,  2,  3,  4,  5],\n",
       "       [ 6,  7,  8,  9, 10]])"
      ]
     },
     "execution_count": 352,
     "metadata": {},
     "output_type": "execute_result"
    }
   ],
   "source": [
    "\n",
    "array2 = np.array([1, 2, 3, 4, 5, 6, 7, 8, 9, 10])\n",
    "array2.reshape(2, 5)"
   ]
  },
  {
   "cell_type": "markdown",
   "id": "86bb8999",
   "metadata": {},
   "source": [
    "#### Ejercicio 3 - Encuentra los índices de los elementos con valor distinto de 0 en el siguiente array: [0, 2, 0, 3, 0, 4, 0]."
   ]
  },
  {
   "cell_type": "code",
   "execution_count": 353,
   "id": "d1fcfca4",
   "metadata": {},
   "outputs": [
    {
     "data": {
      "text/plain": [
       "array([2, 3, 4])"
      ]
     },
     "execution_count": 353,
     "metadata": {},
     "output_type": "execute_result"
    }
   ],
   "source": [
    "listadada = [0,2,0,3,0,4,0]\n",
    "array3 = np.array(listadada)\n",
    "array3[array3 != 0] "
   ]
  },
  {
   "cell_type": "markdown",
   "id": "1c548419",
   "metadata": {},
   "source": [
    "#### Ejercicio 4 - Crea un array 3x3 con valores aleatorios entre 0 y 1."
   ]
  },
  {
   "cell_type": "code",
   "execution_count": 354,
   "id": "e1d4f19f",
   "metadata": {},
   "outputs": [
    {
     "data": {
      "text/plain": [
       "array([[0, 0, 0],\n",
       "       [0, 0, 0],\n",
       "       [0, 0, 0]], dtype=int32)"
      ]
     },
     "execution_count": 354,
     "metadata": {},
     "output_type": "execute_result"
    }
   ],
   "source": [
    "\n",
    "array3x3 = np.random.randint(0,1,(3,3))\n",
    "array3x3"
   ]
  },
  {
   "cell_type": "markdown",
   "id": "aee82811",
   "metadata": {},
   "source": [
    "#### Ejercicio 5 - Crea un array de 10 números aleatorios y encuentra el valor máximo y mínimo."
   ]
  },
  {
   "cell_type": "code",
   "execution_count": 56,
   "id": "81fea76e",
   "metadata": {},
   "outputs": [
    {
     "name": "stdout",
     "output_type": "stream",
     "text": [
      "[17 16 11  7 12  4  6  2  4 16]\n",
      "17\n",
      "2\n"
     ]
    }
   ],
   "source": [
    "arrayaleatorio = np.random.randint(1,20,10)\n",
    "arrayaleatorio\n",
    "np.max(arrayaleatorio)\n",
    "np.min(arrayaleatorio)\n",
    "print(arrayaleatorio)\n",
    "print(np.max(arrayaleatorio))\n",
    "print(np.min(arrayaleatorio))"
   ]
  },
  {
   "cell_type": "markdown",
   "id": "6559375b",
   "metadata": {},
   "source": [
    "#### Ejercicio 6 - Crea un array de una dimensión e inviértelo. "
   ]
  },
  {
   "cell_type": "code",
   "execution_count": 357,
   "id": "31385db0",
   "metadata": {},
   "outputs": [
    {
     "data": {
      "text/plain": [
       "[2, 4, 42, 8, 6, 4, 6, 3, 1, 2]"
      ]
     },
     "execution_count": 357,
     "metadata": {},
     "output_type": "execute_result"
    }
   ],
   "source": [
    "lista = [2,1,3,6,4,6,8,42,4,2]\n",
    "array6 = lista[::-1]\n",
    "array6\n"
   ]
  },
  {
   "cell_type": "markdown",
   "id": "4457f046",
   "metadata": {},
   "source": [
    "\n",
    "#### Ejercicio 6 - Genera un array tridimensional de dimensiones (2, 3, 4) con valores enteros del 1 al 24.\n",
    "\n",
    "- Selecciona el primer `15` del array.\n",
    "\n",
    "- Selecciona todos los elementos del primer array. \n",
    "\n",
    "- Selecciona la última fila del último array\n"
   ]
  },
  {
   "cell_type": "code",
   "execution_count": 69,
   "id": "3cab04c9",
   "metadata": {},
   "outputs": [
    {
     "name": "stdout",
     "output_type": "stream",
     "text": [
      "[[[16  5 18  5]\n",
      "  [ 6 22  7 17]\n",
      "  [ 7  4 20 12]]\n",
      "\n",
      " [[ 9 11  6 18]\n",
      "  [13 10 23  8]\n",
      "  [12 21  6  4]]]\n",
      "(array([], dtype=int64),)\n"
     ]
    }
   ],
   "source": [
    "arraytridimensional = np.random.randint(1,24,(2,3,4))\n",
    "arraytridimensional\n",
    "np.where(arraytridimensional[arraytridimensional == 15]) \n",
    "print(arraytridimensional)\n",
    "print(np.where(arraytridimensional[arraytridimensional == 15]))"
   ]
  },
  {
   "cell_type": "code",
   "execution_count": 358,
   "id": "adab1aeb",
   "metadata": {},
   "outputs": [
    {
     "data": {
      "text/plain": [
       "array([12, 21,  6,  4], dtype=int32)"
      ]
     },
     "execution_count": 358,
     "metadata": {},
     "output_type": "execute_result"
    }
   ],
   "source": [
    "arraytridimensional[0]\n",
    "arraytridimensional[1][2]"
   ]
  },
  {
   "cell_type": "markdown",
   "id": "681b7e4e",
   "metadata": {},
   "source": [
    "\n",
    "#### Ejercicio 7 - Genera un array tridimensional de dimensiones (3, 2, 5) con valores enteros del 1 al 30.\n",
    "\n",
    "- Selecciona el subarray que contiene los dos primeros elementos de cada fila del primer array.\n",
    "\n",
    "- Selecciona el subarray que contiene todas las filas de los dos últimos arrays.\n"
   ]
  },
  {
   "cell_type": "code",
   "execution_count": 364,
   "id": "b008a9aa",
   "metadata": {},
   "outputs": [
    {
     "data": {
      "text/plain": [
       "array([[[21, 29, 19, 12, 24],\n",
       "        [22,  3,  3,  4, 23]],\n",
       "\n",
       "       [[14, 18,  3,  4, 28],\n",
       "        [13,  4, 17,  4, 16]],\n",
       "\n",
       "       [[14,  2, 10, 17,  7],\n",
       "        [22, 10, 29, 18, 18]]], dtype=int32)"
      ]
     },
     "execution_count": 364,
     "metadata": {},
     "output_type": "execute_result"
    }
   ],
   "source": [
    "arraytridimensional2 = np.random.randint(1,30,(3,2,5))\n",
    "arraytridimensional2"
   ]
  },
  {
   "cell_type": "code",
   "execution_count": 368,
   "id": "9fc26518",
   "metadata": {},
   "outputs": [
    {
     "data": {
      "text/plain": [
       "array([[[14, 18,  3,  4, 28],\n",
       "        [13,  4, 17,  4, 16]],\n",
       "\n",
       "       [[14,  2, 10, 17,  7],\n",
       "        [22, 10, 29, 18, 18]]], dtype=int32)"
      ]
     },
     "execution_count": 368,
     "metadata": {},
     "output_type": "execute_result"
    }
   ],
   "source": [
    "arraytridimensional2[0, :, :2]\n",
    "arraytridimensional2[1:3, :, :]\n"
   ]
  },
  {
   "cell_type": "markdown",
   "id": "4fabd9d0",
   "metadata": {},
   "source": [
    "#### Ejercicio 8 - Genera un array tridimensional de dimensiones (4, 3, 2) con valores enteros del 1 al 24.\n",
    "\n",
    "- Cambia todos los elementos de la segunda fila del segundo array por `0`.\n",
    "\n",
    "- Cambia todos los valores del último array a `-1`.\n"
   ]
  },
  {
   "cell_type": "code",
   "execution_count": 375,
   "id": "0ef45b69",
   "metadata": {},
   "outputs": [
    {
     "name": "stdout",
     "output_type": "stream",
     "text": [
      "[[[20  9]\n",
      "  [ 8  5]\n",
      "  [18  7]]\n",
      "\n",
      " [[22 14]\n",
      "  [ 3 16]\n",
      "  [20 16]]\n",
      "\n",
      " [[14  7]\n",
      "  [ 4 20]\n",
      "  [14  7]]\n",
      "\n",
      " [[23  6]\n",
      "  [ 5  9]\n",
      "  [ 4 16]]]\n"
     ]
    }
   ],
   "source": [
    "arraytridimensional3 = np.random.randint(1,24,(4,3,2))\n",
    "print(arraytridimensional3)\n"
   ]
  },
  {
   "cell_type": "code",
   "execution_count": 376,
   "id": "e4cbee82",
   "metadata": {},
   "outputs": [
    {
     "name": "stdout",
     "output_type": "stream",
     "text": [
      "[[[20  9]\n",
      "  [ 8  5]\n",
      "  [18  7]]\n",
      "\n",
      " [[22 14]\n",
      "  [ 0  0]\n",
      "  [20 16]]\n",
      "\n",
      " [[14  7]\n",
      "  [ 4 20]\n",
      "  [14  7]]\n",
      "\n",
      " [[23  6]\n",
      "  [ 5  9]\n",
      "  [ 4 16]]]\n"
     ]
    }
   ],
   "source": [
    "arraytridimensional3[1,1,:] = 0\n",
    "print(arraytridimensional3)\n"
   ]
  },
  {
   "cell_type": "code",
   "execution_count": 377,
   "id": "a0492b13",
   "metadata": {},
   "outputs": [
    {
     "data": {
      "text/plain": [
       "array([[[20,  9],\n",
       "        [ 8,  5],\n",
       "        [18,  7]],\n",
       "\n",
       "       [[22, 14],\n",
       "        [ 0,  0],\n",
       "        [20, 16]],\n",
       "\n",
       "       [[14,  7],\n",
       "        [ 4, 20],\n",
       "        [14,  7]],\n",
       "\n",
       "       [[-1, -1],\n",
       "        [-1, -1],\n",
       "        [-1, -1]]], dtype=int32)"
      ]
     },
     "execution_count": 377,
     "metadata": {},
     "output_type": "execute_result"
    }
   ],
   "source": [
    "arraytridimensional3[3, :, :] = -1\n",
    "arraytridimensional3\n"
   ]
  },
  {
   "cell_type": "markdown",
   "id": "c60bc3bb",
   "metadata": {},
   "source": [
    "\n",
    "#### Ejercicio 9 - Genera un array tridimensional de dimensiones (2, 4, 3) con valores enteros del -10 al 13.\n",
    "\n",
    "- Selecciona todos los elementos mayores a `5`.\n",
    "\n",
    "- Reemplaza todos los elementos negativos por `0`.\n"
   ]
  },
  {
   "cell_type": "code",
   "execution_count": 94,
   "id": "28bf9232",
   "metadata": {},
   "outputs": [
    {
     "name": "stdout",
     "output_type": "stream",
     "text": [
      "[[[-9  8 10]\n",
      "  [ 3  5  9]\n",
      "  [11  2  9]\n",
      "  [-7  6 -8]]\n",
      "\n",
      " [[ 5  2 -9]\n",
      "  [ 9 11 11]\n",
      "  [-6 11 10]\n",
      "  [-1 -2  2]]]\n"
     ]
    },
    {
     "data": {
      "text/plain": [
       "array([ 8, 10,  9, 11,  9,  6,  9, 11, 11, 11, 10], dtype=int32)"
      ]
     },
     "execution_count": 94,
     "metadata": {},
     "output_type": "execute_result"
    }
   ],
   "source": [
    "arraytridimensional4 = np.random.randint(-10,13,(2,4,3))\n",
    "print(arraytridimensional4)\n",
    "arraytridimensional4[arraytridimensional4 > 5] \n",
    "\n"
   ]
  },
  {
   "cell_type": "code",
   "execution_count": 97,
   "id": "7e91d201",
   "metadata": {},
   "outputs": [
    {
     "data": {
      "text/plain": [
       "array([[[ 0,  8, 10],\n",
       "        [ 3,  5,  9],\n",
       "        [11,  2,  9],\n",
       "        [ 0,  6,  0]],\n",
       "\n",
       "       [[ 5,  2,  0],\n",
       "        [ 9, 11, 11],\n",
       "        [ 0, 11, 10],\n",
       "        [ 0,  0,  2]]], dtype=int32)"
      ]
     },
     "execution_count": 97,
     "metadata": {},
     "output_type": "execute_result"
    }
   ],
   "source": [
    "arraytridimensional4[arraytridimensional4 < 0] = 0\n",
    "arraytridimensional4"
   ]
  },
  {
   "cell_type": "markdown",
   "id": "ab38a3be",
   "metadata": {},
   "source": [
    "#### Ejercicio 10 - Genera un array tridimensional de dimensiones (3, 3, 3) con valores enteros del 1 al 27.\n",
    "\n",
    "- Selecciona el subarray del segundo array que contenga solo las dos primeras columnas.\n",
    "\n",
    "- Selecciona todos los elementos del tercer array que sean mayores que `20`.\n"
   ]
  },
  {
   "cell_type": "code",
   "execution_count": 382,
   "id": "78c979cf",
   "metadata": {},
   "outputs": [],
   "source": [
    "arraytridimensional5 = np.random.randint(1,27,(3,3,3))\n"
   ]
  },
  {
   "cell_type": "code",
   "execution_count": 383,
   "id": "a270206a",
   "metadata": {},
   "outputs": [
    {
     "name": "stdout",
     "output_type": "stream",
     "text": [
      "[[[11 12 23]\n",
      "  [11  6  7]\n",
      "  [23  7 25]]\n",
      "\n",
      " [[ 4  2 11]\n",
      "  [15 21 19]\n",
      "  [17  7 13]]\n",
      "\n",
      " [[23 20 18]\n",
      "  [ 4 11 21]\n",
      "  [ 5 26 23]]]\n"
     ]
    }
   ],
   "source": [
    "print(arraytridimensional5)\n",
    "\n"
   ]
  },
  {
   "cell_type": "code",
   "execution_count": 384,
   "id": "16627f6b",
   "metadata": {},
   "outputs": [
    {
     "data": {
      "text/plain": [
       "array([[ 4,  2],\n",
       "       [15, 21],\n",
       "       [17,  7]], dtype=int32)"
      ]
     },
     "execution_count": 384,
     "metadata": {},
     "output_type": "execute_result"
    }
   ],
   "source": [
    "arraytridimensional5[1,:3,:2]"
   ]
  },
  {
   "cell_type": "code",
   "execution_count": 385,
   "id": "607bde5d",
   "metadata": {},
   "outputs": [
    {
     "data": {
      "text/plain": [
       "array([23, 21, 26, 23], dtype=int32)"
      ]
     },
     "execution_count": 385,
     "metadata": {},
     "output_type": "execute_result"
    }
   ],
   "source": [
    "arraytridimensional5[2][arraytridimensional5[2] > 20]\n"
   ]
  },
  {
   "cell_type": "markdown",
   "id": "f1a00156",
   "metadata": {},
   "source": [
    "#### Ejercicio 11 - Crea un array de 10 números aleatorios y reemplaza los valores máximos y mínimos por 0."
   ]
  },
  {
   "cell_type": "code",
   "execution_count": 468,
   "id": "990fa526",
   "metadata": {},
   "outputs": [
    {
     "data": {
      "text/plain": [
       "array([0, 4, 6, 5, 0, 0, 0, 0, 5, 0], dtype=int32)"
      ]
     },
     "execution_count": 468,
     "metadata": {},
     "output_type": "execute_result"
    }
   ],
   "source": [
    "array11 = np.random.randint(1,10,10)\n",
    "array11\n",
    "max = np.max(array11)\n",
    "min= np.min(array11)\n",
    "array11[array11 == max] = 0\n",
    "array11[array11 == min] = 0\n",
    "array11\n"
   ]
  },
  {
   "cell_type": "markdown",
   "id": "781fafd0",
   "metadata": {},
   "source": [
    "#### Ejercicio 12 - Genera un array de 15 números aleatorios enteros entre 1 y 100 y reordénalo en orden ascendente."
   ]
  },
  {
   "cell_type": "code",
   "execution_count": 269,
   "id": "caa4fd47",
   "metadata": {},
   "outputs": [
    {
     "data": {
      "text/plain": [
       "array([67, 72, 50, 25,  1, 77, 19, 81, 94,  4, 71, 82, 30, 42, 51],\n",
       "      dtype=int32)"
      ]
     },
     "execution_count": 269,
     "metadata": {},
     "output_type": "execute_result"
    }
   ],
   "source": [
    "array7 = np.random.randint(1,100,15)\n",
    "array7\n"
   ]
  },
  {
   "cell_type": "code",
   "execution_count": 270,
   "id": "9c28dc3d",
   "metadata": {},
   "outputs": [
    {
     "data": {
      "text/plain": [
       "array([ 1,  4, 19, 25, 30, 42, 50, 51, 67, 71, 72, 77, 81, 82, 94],\n",
       "      dtype=int32)"
      ]
     },
     "execution_count": 270,
     "metadata": {},
     "output_type": "execute_result"
    }
   ],
   "source": [
    "np.sort(array7)"
   ]
  },
  {
   "cell_type": "markdown",
   "id": "45f10c3e",
   "metadata": {},
   "source": [
    "#### Ejercicio 11 - Calcula la suma de los elementos a lo largo de las filas y columnas en una matriz 4x4."
   ]
  },
  {
   "cell_type": "code",
   "execution_count": 273,
   "id": "90220788",
   "metadata": {},
   "outputs": [
    {
     "data": {
      "text/plain": [
       "array([[[14,  4,  6,  3],\n",
       "        [14, 10,  4,  4],\n",
       "        [ 9,  3,  5,  3],\n",
       "        [ 7,  2,  8,  8]]], dtype=int32)"
      ]
     },
     "execution_count": 273,
     "metadata": {},
     "output_type": "execute_result"
    }
   ],
   "source": [
    "array8 = np.random.randint(1,15,(1,4,4))\n",
    "array8"
   ]
  },
  {
   "cell_type": "code",
   "execution_count": 274,
   "id": "10ae28a4",
   "metadata": {},
   "outputs": [
    {
     "data": {
      "text/plain": [
       "np.int64(104)"
      ]
     },
     "execution_count": 274,
     "metadata": {},
     "output_type": "execute_result"
    }
   ],
   "source": [
    "np.sum(array8)"
   ]
  },
  {
   "cell_type": "markdown",
   "id": "69b9751a",
   "metadata": {},
   "source": [
    "#### Ejercicio 12 - Crea una matriz de 5x5 con valores en el borde igual a 1 y en el interior igual a 0."
   ]
  },
  {
   "cell_type": "code",
   "execution_count": 300,
   "id": "eca81323",
   "metadata": {},
   "outputs": [
    {
     "data": {
      "text/plain": [
       "array([[1., 1., 1., 1., 1.],\n",
       "       [1., 0., 0., 0., 1.],\n",
       "       [1., 0., 0., 0., 1.],\n",
       "       [1., 0., 0., 0., 1.],\n",
       "       [1., 1., 1., 1., 1.]])"
      ]
     },
     "execution_count": 300,
     "metadata": {},
     "output_type": "execute_result"
    }
   ],
   "source": [
    " unos = np.ones((5,5))\n",
    " unos[2,1:4]=0\n",
    " unos[1,1:4]=0\n",
    " unos[3,1:4]=0\n",
    " unos\n",
    "\n"
   ]
  },
  {
   "cell_type": "markdown",
   "id": "1ea8068d",
   "metadata": {},
   "source": [
    "#### Ejercicio 13 - Calcula la media y la desviación estándar de un array de 10 números aleatorios."
   ]
  },
  {
   "cell_type": "code",
   "execution_count": 303,
   "id": "05dd579d",
   "metadata": {},
   "outputs": [
    {
     "data": {
      "text/plain": [
       "array([ 2,  9,  1,  5,  9, 12,  5,  8,  1, 11], dtype=int32)"
      ]
     },
     "execution_count": 303,
     "metadata": {},
     "output_type": "execute_result"
    }
   ],
   "source": [
    "array9 = np.random.randint(1,15,10)\n",
    "array9\n",
    "\n"
   ]
  },
  {
   "cell_type": "code",
   "execution_count": 305,
   "id": "c60ab0ce",
   "metadata": {},
   "outputs": [
    {
     "data": {
      "text/plain": [
       "np.float64(3.874274125562103)"
      ]
     },
     "execution_count": 305,
     "metadata": {},
     "output_type": "execute_result"
    }
   ],
   "source": [
    "np.mean(array9)\n",
    "np.std(array9)"
   ]
  },
  {
   "cell_type": "markdown",
   "id": "6add6669",
   "metadata": {},
   "source": [
    "#### Ejercicio 14 - Genera un array tridimensional de dimensiones (2, 3, 4) con valores enteros del 1 al 24.\n",
    "\n",
    "- Transpón el array para intercambiar los ejes de la forma (2, 3, 4) a (4, 3, 2).\n",
    "\n",
    "- Observa cómo cambian las posiciones de los elementos y sus índices después de la transposición. Explica en una celda de markdown que es lo que ha pasado. \n"
   ]
  },
  {
   "cell_type": "code",
   "execution_count": 320,
   "id": "ae98aca5",
   "metadata": {},
   "outputs": [
    {
     "data": {
      "text/plain": [
       "array([[[ 6,  2,  5,  9],\n",
       "        [ 1, 13,  6, 13],\n",
       "        [12,  8,  6, 12]],\n",
       "\n",
       "       [[13,  4,  8,  5],\n",
       "        [ 7, 10, 10,  3],\n",
       "        [ 5, 13,  1, 10]]], dtype=int32)"
      ]
     },
     "execution_count": 320,
     "metadata": {},
     "output_type": "execute_result"
    }
   ],
   "source": [
    "array14 = np.random.randint(1,15,(2,3,4))\n",
    "array14\n"
   ]
  },
  {
   "cell_type": "code",
   "execution_count": 323,
   "id": "93d54330",
   "metadata": {},
   "outputs": [
    {
     "data": {
      "text/plain": [
       "array([[[ 6, 13],\n",
       "        [ 1,  7],\n",
       "        [12,  5]],\n",
       "\n",
       "       [[ 2,  4],\n",
       "        [13, 10],\n",
       "        [ 8, 13]],\n",
       "\n",
       "       [[ 5,  8],\n",
       "        [ 6, 10],\n",
       "        [ 6,  1]],\n",
       "\n",
       "       [[ 9,  5],\n",
       "        [13,  3],\n",
       "        [12, 10]]], dtype=int32)"
      ]
     },
     "execution_count": 323,
     "metadata": {},
     "output_type": "execute_result"
    }
   ],
   "source": [
    "np.transpose(array14,(2,1,0)) "
   ]
  },
  {
   "cell_type": "markdown",
   "id": "cf0975b2",
   "metadata": {},
   "source": [
    "Teniamos un array de 2 matrices o arrays con 3 filas y 4 columnas y hemos pasado a un array con 4 matrices 3 filas y dos columnas"
   ]
  },
  {
   "cell_type": "markdown",
   "id": "1e32b5e6",
   "metadata": {},
   "source": [
    "#### Ejercicio 15 - Genera un array tridimensional de dimensiones (3, 4, 2) con valores enteros del 1 al 24.\n",
    "\n",
    "- Transpón el array para intercambiar el primer y segundo eje, de manera que la nueva forma del array sea (4, 3, 2).\n"
   ]
  },
  {
   "cell_type": "code",
   "execution_count": 325,
   "id": "0146fdd6",
   "metadata": {},
   "outputs": [
    {
     "data": {
      "text/plain": [
       "array([[[11, 16],\n",
       "        [13,  5],\n",
       "        [19,  1],\n",
       "        [22, 20]],\n",
       "\n",
       "       [[19, 20],\n",
       "        [11, 20],\n",
       "        [ 8, 18],\n",
       "        [ 9, 17]],\n",
       "\n",
       "       [[21, 10],\n",
       "        [12, 21],\n",
       "        [11,  8],\n",
       "        [16, 16]]], dtype=int32)"
      ]
     },
     "execution_count": 325,
     "metadata": {},
     "output_type": "execute_result"
    }
   ],
   "source": [
    "array15 = np.random.randint(1,24,(3,4,2))\n",
    "array15"
   ]
  },
  {
   "cell_type": "code",
   "execution_count": 330,
   "id": "158051c3",
   "metadata": {},
   "outputs": [
    {
     "data": {
      "text/plain": [
       "array([[[11, 13, 19, 22],\n",
       "        [19, 11,  8,  9],\n",
       "        [21, 12, 11, 16]],\n",
       "\n",
       "       [[16,  5,  1, 20],\n",
       "        [20, 20, 18, 17],\n",
       "        [10, 21,  8, 16]]], dtype=int32)"
      ]
     },
     "execution_count": 330,
     "metadata": {},
     "output_type": "execute_result"
    }
   ],
   "source": [
    "np.transpose(array15,(2,0,1))"
   ]
  },
  {
   "cell_type": "markdown",
   "id": "fcf92586",
   "metadata": {},
   "source": [
    "#### Ejercicio 16 - Genera un array tridimensional de dimensiones (3, 2, 4) con valores enteros del 1 al 24.\n",
    "\n",
    "- Realiza una rotación completa de los ejes para convertir la forma original (3, 2, 4) en (4, 3, 2).\n"
   ]
  },
  {
   "cell_type": "code",
   "execution_count": 332,
   "id": "dd2c7f27",
   "metadata": {},
   "outputs": [
    {
     "data": {
      "text/plain": [
       "array([[[23,  5, 13, 15],\n",
       "        [21, 16,  5, 18]],\n",
       "\n",
       "       [[17, 12,  2, 20],\n",
       "        [10,  6,  3, 19]],\n",
       "\n",
       "       [[16, 17,  1, 10],\n",
       "        [ 9, 13, 16,  1]]], dtype=int32)"
      ]
     },
     "execution_count": 332,
     "metadata": {},
     "output_type": "execute_result"
    }
   ],
   "source": [
    "array16 = np.random.randint(1,24,(3,2,4))\n",
    "array16"
   ]
  },
  {
   "cell_type": "code",
   "execution_count": 333,
   "id": "8e73981f",
   "metadata": {},
   "outputs": [
    {
     "data": {
      "text/plain": [
       "array([[[23, 21],\n",
       "        [17, 10],\n",
       "        [16,  9]],\n",
       "\n",
       "       [[ 5, 16],\n",
       "        [12,  6],\n",
       "        [17, 13]],\n",
       "\n",
       "       [[13,  5],\n",
       "        [ 2,  3],\n",
       "        [ 1, 16]],\n",
       "\n",
       "       [[15, 18],\n",
       "        [20, 19],\n",
       "        [10,  1]]], dtype=int32)"
      ]
     },
     "execution_count": 333,
     "metadata": {},
     "output_type": "execute_result"
    }
   ],
   "source": [
    "np.transpose(array16,(2,0,1))"
   ]
  },
  {
   "cell_type": "markdown",
   "id": "1795e11f",
   "metadata": {},
   "source": [
    "#### Ejercicio 17 - Manipulación de Arrays en 3D\n",
    "\n",
    "- Crea un array tridimensional con dimensiones (3, 4, 5) cuyos elementos sean números enteros aleatorios entre -10 y 10.\n",
    "\n",
    "- Crea un array vacío con la misma forma y dimensiones que el array creado anteriormente. Luego, reemplaza los valores de la matriz vacía basada en los valores del primer array bajo las siguientes condiciones:\n",
    "\n",
    "   - Si el valor es igual a la mediana, se reemplaza por `\"M\"`.\n",
    "\n",
    "   - Si el valor es mayor que la mediana, se reemplaza por `\"X\"`.\n",
    "\n",
    "   - Si el valor es menor que la mediana, se reemplaza por `\"Y\"`.\n",
    "\n",
    "   - Si el valor es igual al máximo, se reemplaza por `\"MAX\"`.\n",
    "\n",
    "   - Si el valor es igual al mínimo, se reemplaza por `\"MIN\"`.\n"
   ]
  },
  {
   "cell_type": "code",
   "execution_count": 474,
   "id": "d309b397",
   "metadata": {},
   "outputs": [
    {
     "name": "stdout",
     "output_type": "stream",
     "text": [
      "[[[ -1  -6  -1 -10   2]\n",
      "  [  6   0  -5   6   8]\n",
      "  [ -6 -10  -5  -1   0]\n",
      "  [ -8 -10  -3   2  -1]]\n",
      "\n",
      " [[ -1   3   1  -5  -4]\n",
      "  [ -8  -3  -8  -2  -4]\n",
      "  [-10  -1   7  -3   3]\n",
      "  [  2   7  -9  -3   7]]\n",
      "\n",
      " [[ -2   7   3  -1  -1]\n",
      "  [ -9   2  -4   9  -3]\n",
      "  [ -2  -5   3   8  -4]\n",
      "  [  2   4   3   4   5]]]\n"
     ]
    }
   ],
   "source": [
    "array17 = np.random.randint(-10,10,(3,4,5))\n",
    "print(array17)\n",
    "minimo = np.min(array17)\n",
    "maximo = np.max(array17)\n",
    "mediana =np.median(array17)"
   ]
  },
  {
   "cell_type": "code",
   "execution_count": 480,
   "id": "4b4b93c5",
   "metadata": {},
   "outputs": [
    {
     "data": {
      "text/plain": [
       "array([[['M', 'Y', 'M', 'Y', 'X'],\n",
       "        ['X', 'X', 'Y', 'X', 'X'],\n",
       "        ['Y', 'Y', 'Y', 'M', 'X'],\n",
       "        ['Y', 'Y', 'Y', 'X', 'M']],\n",
       "\n",
       "       [['M', 'X', 'X', 'Y', 'Y'],\n",
       "        ['Y', 'Y', 'Y', 'Y', 'Y'],\n",
       "        ['Y', 'M', 'X', 'Y', 'X'],\n",
       "        ['X', 'X', 'Y', 'Y', 'X']],\n",
       "\n",
       "       [['Y', 'X', 'X', 'M', 'M'],\n",
       "        ['Y', 'X', 'Y', 'X', 'Y'],\n",
       "        ['Y', 'Y', 'X', 'X', 'Y'],\n",
       "        ['X', 'X', 'X', 'X', 'X']]], dtype='<U32')"
      ]
     },
     "execution_count": 480,
     "metadata": {},
     "output_type": "execute_result"
    }
   ],
   "source": [
    "arrayvacio =np.empty((3,4,5))\n",
    "\n",
    "arrayvacio = np.where(array17 == maximo, \"MAX\", arrayvacio)\n",
    "arrayvacio = np.where(array17 == minimo, \"MIN\", arrayvacio)\n",
    "arrayvacio = np.where(array17 == mediana, \"M\", arrayvacio)\n",
    "arrayvacio = np.where(array17 > mediana, \"X\", arrayvacio)\n",
    "arrayvacio = np.where(array17 < mediana, \"Y\", arrayvacio)\n",
    "arrayvacio"
   ]
  },
  {
   "cell_type": "markdown",
   "id": "83794704",
   "metadata": {},
   "source": [
    "#### Ejercicio 18 - Verificación de Filas y Columnas Iguales\n",
    "\n",
    "Crea un array bidimensional de dimensiones 4x4, escribe un código para determinar si alguna fila es exactamente igual a alguna columna.\n",
    "\n",
    "**Reglas:**\n",
    "\n",
    "- No puedes usar funciones predefinidas de NumPy para comparar filas y columnas (`np.array_equal`, etc.).\n",
    "\n",
    "- Debes resolverlo con estructuras básicas de Python (bucles, condicionales, etc.).\n",
    "\n",
    "- Debes revisar si hay al menos una fila que coincida exactamente con alguna columna.\n",
    "\n",
    "**Pistas**:\n",
    "\n",
    "- Puedes recorrer cada fila y cada columna de la matriz usando bucles.\n",
    "\n",
    "- Para comparar una fila con una columna, puedes hacerlo elemento por elemento."
   ]
  },
  {
   "cell_type": "code",
   "execution_count": 482,
   "id": "afd51c60",
   "metadata": {},
   "outputs": [
    {
     "data": {
      "text/plain": [
       "array([[18,  6,  5, 19],\n",
       "       [20, 10, 14,  1],\n",
       "       [ 2, 13, 13, 22],\n",
       "       [ 4,  3, 13,  2]], dtype=int32)"
      ]
     },
     "execution_count": 482,
     "metadata": {},
     "output_type": "execute_result"
    }
   ],
   "source": [
    "array18 = np.random.randint(1,24,(4,4))\n",
    "array18"
   ]
  },
  {
   "cell_type": "code",
   "execution_count": 508,
   "id": "3146c104",
   "metadata": {},
   "outputs": [
    {
     "name": "stdout",
     "output_type": "stream",
     "text": [
      "4\n",
      "4\n",
      "No hay filas iguales\n",
      "No hay filas iguales\n",
      "No hay filas iguales\n",
      "No hay filas iguales\n"
     ]
    }
   ],
   "source": [
    "filas = array18.shape[0]\n",
    "columnas = array18.shape[1]\n",
    "print(filas)\n",
    "print(columnas)\n",
    "\n",
    "hay_igualdad = False\n",
    "\n",
    "\n",
    "for i in range(4):\n",
    "    for j in range(4):\n",
    "        Filasiguales = True\n",
    "        for k in range(4): \n",
    "            if array18[i, k] != array18[k, j]:\n",
    "                Filasiguales = False\n",
    "                break\n",
    "        \n",
    "        if son_iguales:\n",
    "            Filasiguales = True\n",
    "            print('hay filas iguales')\n",
    "            break\n",
    "        else:\n",
    "            print('No hay filas iguales')\n",
    "            break"
   ]
  }
 ],
 "metadata": {
  "kernelspec": {
   "display_name": "Python 3",
   "language": "python",
   "name": "python3"
  },
  "language_info": {
   "codemirror_mode": {
    "name": "ipython",
    "version": 3
   },
   "file_extension": ".py",
   "mimetype": "text/x-python",
   "name": "python",
   "nbconvert_exporter": "python",
   "pygments_lexer": "ipython3",
   "version": "3.12.6"
  }
 },
 "nbformat": 4,
 "nbformat_minor": 5
}
